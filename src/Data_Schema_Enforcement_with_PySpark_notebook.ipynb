{
 "cells": [
  {
   "cell_type": "code",
   "execution_count": null,
   "metadata": {},
   "outputs": [],
   "source": [
    "\n",
    "#!pip install great-expectations"
   ]
  },
  {
   "cell_type": "code",
   "execution_count": 14,
   "metadata": {},
   "outputs": [],
   "source": [
    "import findspark\n",
    "\n",
    "findspark.init()\n",
    "findspark.find()\n",
    "import pyspark"
   ]
  },
  {
   "cell_type": "code",
   "execution_count": 15,
   "metadata": {},
   "outputs": [
    {
     "name": "stdout",
     "output_type": "stream",
     "text": [
      "+---------+---------+--------------------+--------+--------------+---------+----------+--------------+\n",
      "|InvoiceNo|StockCode|         Description|Quantity|   InvoiceDate|UnitPrice|CustomerID|       Country|\n",
      "+---------+---------+--------------------+--------+--------------+---------+----------+--------------+\n",
      "|   536365|   85123A|WHITE HANGING HEA...|       6|12/1/2010 8:26|     2.55|     17850|United Kingdom|\n",
      "|   536365|    71053| WHITE METAL LANTERN|       6|12/1/2010 8:26|     3.39|     17850|United Kingdom|\n",
      "|   536365|   84406B|CREAM CUPID HEART...|       8|12/1/2010 8:26|     2.75|     17850|United Kingdom|\n",
      "|   536365|   84029G|KNITTED UNION FLA...|       6|12/1/2010 8:26|     3.39|     17850|United Kingdom|\n",
      "|   536365|   84029E|RED WOOLLY HOTTIE...|       6|12/1/2010 8:26|     3.39|     17850|United Kingdom|\n",
      "|   536365|    22752|SET 7 BABUSHKA NE...|       2|12/1/2010 8:26|     7.65|     17850|United Kingdom|\n",
      "|   536365|    21730|GLASS STAR FROSTE...|       6|12/1/2010 8:26|     4.25|     17850|United Kingdom|\n",
      "|   536366|    22633|HAND WARMER UNION...|       6|12/1/2010 8:28|     1.85|     17850|United Kingdom|\n",
      "|   536366|    22632|HAND WARMER RED P...|       6|12/1/2010 8:28|     1.85|     17850|United Kingdom|\n",
      "|   536367|    84879|ASSORTED COLOUR B...|      32|12/1/2010 8:34|     1.69|     13047|United Kingdom|\n",
      "|   536367|    22745|POPPY'S PLAYHOUSE...|       6|12/1/2010 8:34|      2.1|     13047|United Kingdom|\n",
      "|   536367|    22748|POPPY'S PLAYHOUSE...|       6|12/1/2010 8:34|      2.1|     13047|United Kingdom|\n",
      "|   536367|    22749|FELTCRAFT PRINCES...|       8|12/1/2010 8:34|     3.75|     13047|United Kingdom|\n",
      "|   536367|    22310|IVORY KNITTED MUG...|       6|12/1/2010 8:34|     1.65|     13047|United Kingdom|\n",
      "|   536367|    84969|BOX OF 6 ASSORTED...|       6|12/1/2010 8:34|     4.25|     13047|United Kingdom|\n",
      "|   536367|    22623|BOX OF VINTAGE JI...|       3|12/1/2010 8:34|     4.95|     13047|United Kingdom|\n",
      "|   536367|    22622|BOX OF VINTAGE AL...|       2|12/1/2010 8:34|     9.95|     13047|United Kingdom|\n",
      "|   536367|    21754|HOME BUILDING BLO...|       3|12/1/2010 8:34|     5.95|     13047|United Kingdom|\n",
      "|   536367|    21755|LOVE BUILDING BLO...|       3|12/1/2010 8:34|     5.95|     13047|United Kingdom|\n",
      "|   536367|    21777|RECIPE BOX WITH M...|       4|12/1/2010 8:34|     7.95|     13047|United Kingdom|\n",
      "+---------+---------+--------------------+--------+--------------+---------+----------+--------------+\n",
      "only showing top 20 rows\n",
      "\n"
     ]
    }
   ],
   "source": [
    "\n",
    "from pyspark.sql import SparkSession\n",
    "import pyspark.sql.functions as F\n",
    "import sys\n",
    "sys.path.append('src')\n",
    "from utils import *\n",
    "\n",
    "# Create a SparkSession with the given application name\n",
    "spark = SparkSession.builder.appName(\"ReadCSV\").getOrCreate()\n",
    "\n",
    "# Read CSV file into a DataFrame, with header and inferred schema\n",
    "df = spark.read.csv(\"online retail.csv\", header=True, inferSchema=True)\n",
    "\n",
    "# Show the content of the DataFrame\n",
    "df.show()\n",
    "\n",
    "#print(df)\n"
   ]
  },
  {
   "cell_type": "code",
   "execution_count": 16,
   "metadata": {},
   "outputs": [
    {
     "name": "stdout",
     "output_type": "stream",
     "text": [
      "{'version_1': StructType([StructField('InvoiceNo', StringType(), True), StructField('StockCode', StringType(), True), StructField('Description', StringType(), True), StructField('Quantity', IntegerType(), True), StructField('InvoiceDate', StringType(), True), StructField('UnitPrice', DoubleType(), True), StructField('CustomerID', IntegerType(), True), StructField('Country', StringType(), True)])}\n"
     ]
    }
   ],
   "source": [
    "# Store the schema of the DataFrame in a dictionary\n",
    "schema_df = df.schema\n",
    "schema_store = {\"version_1\":schema_df}\n",
    "print(schema_store)"
   ]
  },
  {
   "cell_type": "code",
   "execution_count": 17,
   "metadata": {},
   "outputs": [
    {
     "name": "stdout",
     "output_type": "stream",
     "text": [
      "+---------+---------+--------------------+--------+--------------+---------+----------+--------------+------+\n",
      "|InvoiceNo|StockCode|         Description|Quantity|   InvoiceDate|UnitPrice|CustomerID|       Country|  City|\n",
      "+---------+---------+--------------------+--------+--------------+---------+----------+--------------+------+\n",
      "|   536365|   85123A|WHITE HANGING HEA...|       6|12/1/2010 8:26|     2.55|     17850|United Kingdom|London|\n",
      "|   536365|    71053| WHITE METAL LANTERN|       6|12/1/2010 8:26|     3.39|     17850|United Kingdom|London|\n",
      "|   536365|   84406B|CREAM CUPID HEART...|       8|12/1/2010 8:26|     2.75|     17850|United Kingdom|London|\n",
      "|   536365|   84029G|KNITTED UNION FLA...|       6|12/1/2010 8:26|     3.39|     17850|United Kingdom|London|\n",
      "|   536365|   84029E|RED WOOLLY HOTTIE...|       6|12/1/2010 8:26|     3.39|     17850|United Kingdom|London|\n",
      "|   536365|    22752|SET 7 BABUSHKA NE...|       2|12/1/2010 8:26|     7.65|     17850|United Kingdom|London|\n",
      "|   536365|    21730|GLASS STAR FROSTE...|       6|12/1/2010 8:26|     4.25|     17850|United Kingdom|London|\n",
      "|   536366|    22633|HAND WARMER UNION...|       6|12/1/2010 8:28|     1.85|     17850|United Kingdom|London|\n",
      "|   536366|    22632|HAND WARMER RED P...|       6|12/1/2010 8:28|     1.85|     17850|United Kingdom|London|\n",
      "|   536367|    84879|ASSORTED COLOUR B...|      32|12/1/2010 8:34|     1.69|     13047|United Kingdom|London|\n",
      "|   536367|    22745|POPPY'S PLAYHOUSE...|       6|12/1/2010 8:34|      2.1|     13047|United Kingdom|London|\n",
      "|   536367|    22748|POPPY'S PLAYHOUSE...|       6|12/1/2010 8:34|      2.1|     13047|United Kingdom|London|\n",
      "|   536367|    22749|FELTCRAFT PRINCES...|       8|12/1/2010 8:34|     3.75|     13047|United Kingdom|London|\n",
      "|   536367|    22310|IVORY KNITTED MUG...|       6|12/1/2010 8:34|     1.65|     13047|United Kingdom|London|\n",
      "|   536367|    84969|BOX OF 6 ASSORTED...|       6|12/1/2010 8:34|     4.25|     13047|United Kingdom|London|\n",
      "|   536367|    22623|BOX OF VINTAGE JI...|       3|12/1/2010 8:34|     4.95|     13047|United Kingdom|London|\n",
      "|   536367|    22622|BOX OF VINTAGE AL...|       2|12/1/2010 8:34|     9.95|     13047|United Kingdom|London|\n",
      "|   536367|    21754|HOME BUILDING BLO...|       3|12/1/2010 8:34|     5.95|     13047|United Kingdom|London|\n",
      "|   536367|    21755|LOVE BUILDING BLO...|       3|12/1/2010 8:34|     5.95|     13047|United Kingdom|London|\n",
      "|   536367|    21777|RECIPE BOX WITH M...|       4|12/1/2010 8:34|     7.95|     13047|United Kingdom|London|\n",
      "+---------+---------+--------------------+--------+--------------+---------+----------+--------------+------+\n",
      "only showing top 20 rows\n",
      "\n"
     ]
    }
   ],
   "source": [
    "# Extract field names from the schema\n",
    "field_names = [field.name for field in schema_store['version_1']]\n",
    "\n",
    "# Extract types from StructType\n",
    "#field_types = [field.dataType for field in schema_store['version_1']]\n",
    "\n",
    "# Define new field name and data type\n",
    "new_field = \"City\"\n",
    "new_field_value = \"London\"\n",
    "new_field_data_type = \"string\"\n",
    "if new_field not in field_names:\n",
    "    df = add_new_field(df, new_field, new_field_value, new_field_data_type)\n",
    "    df.show()\n",
    "\n",
    "\n",
    "\n"
   ]
  },
  {
   "cell_type": "code",
   "execution_count": 18,
   "metadata": {},
   "outputs": [
    {
     "name": "stdout",
     "output_type": "stream",
     "text": [
      "+---------+---------+--------------------+--------+--------------+---------+----------+--------------+------+\n",
      "|InvoiceNo|StockCode|         Description|Quantity|   InvoiceDate|UnitPrice|CustomerID|       Country|  City|\n",
      "+---------+---------+--------------------+--------+--------------+---------+----------+--------------+------+\n",
      "|   536365|   85123A|WHITE HANGING HEA...|     6.0|12/1/2010 8:26|     2.55|     17850|United Kingdom|London|\n",
      "|   536365|    71053| WHITE METAL LANTERN|     6.0|12/1/2010 8:26|     3.39|     17850|United Kingdom|London|\n",
      "|   536365|   84406B|CREAM CUPID HEART...|     8.0|12/1/2010 8:26|     2.75|     17850|United Kingdom|London|\n",
      "|   536365|   84029G|KNITTED UNION FLA...|     6.0|12/1/2010 8:26|     3.39|     17850|United Kingdom|London|\n",
      "|   536365|   84029E|RED WOOLLY HOTTIE...|     6.0|12/1/2010 8:26|     3.39|     17850|United Kingdom|London|\n",
      "|   536365|    22752|SET 7 BABUSHKA NE...|     2.0|12/1/2010 8:26|     7.65|     17850|United Kingdom|London|\n",
      "|   536365|    21730|GLASS STAR FROSTE...|     6.0|12/1/2010 8:26|     4.25|     17850|United Kingdom|London|\n",
      "|   536366|    22633|HAND WARMER UNION...|     6.0|12/1/2010 8:28|     1.85|     17850|United Kingdom|London|\n",
      "|   536366|    22632|HAND WARMER RED P...|     6.0|12/1/2010 8:28|     1.85|     17850|United Kingdom|London|\n",
      "|   536367|    84879|ASSORTED COLOUR B...|    32.0|12/1/2010 8:34|     1.69|     13047|United Kingdom|London|\n",
      "|   536367|    22745|POPPY'S PLAYHOUSE...|     6.0|12/1/2010 8:34|      2.1|     13047|United Kingdom|London|\n",
      "|   536367|    22748|POPPY'S PLAYHOUSE...|     6.0|12/1/2010 8:34|      2.1|     13047|United Kingdom|London|\n",
      "|   536367|    22749|FELTCRAFT PRINCES...|     8.0|12/1/2010 8:34|     3.75|     13047|United Kingdom|London|\n",
      "|   536367|    22310|IVORY KNITTED MUG...|     6.0|12/1/2010 8:34|     1.65|     13047|United Kingdom|London|\n",
      "|   536367|    84969|BOX OF 6 ASSORTED...|     6.0|12/1/2010 8:34|     4.25|     13047|United Kingdom|London|\n",
      "|   536367|    22623|BOX OF VINTAGE JI...|     3.0|12/1/2010 8:34|     4.95|     13047|United Kingdom|London|\n",
      "|   536367|    22622|BOX OF VINTAGE AL...|     2.0|12/1/2010 8:34|     9.95|     13047|United Kingdom|London|\n",
      "|   536367|    21754|HOME BUILDING BLO...|     3.0|12/1/2010 8:34|     5.95|     13047|United Kingdom|London|\n",
      "|   536367|    21755|LOVE BUILDING BLO...|     3.0|12/1/2010 8:34|     5.95|     13047|United Kingdom|London|\n",
      "|   536367|    21777|RECIPE BOX WITH M...|     4.0|12/1/2010 8:34|     7.95|     13047|United Kingdom|London|\n",
      "+---------+---------+--------------------+--------+--------------+---------+----------+--------------+------+\n",
      "only showing top 20 rows\n",
      "\n"
     ]
    }
   ],
   "source": [
    "\n",
    "\n",
    "# Define existing field name and updated data type\n",
    "existing_field_name = \"Quantity\"\n",
    "updated_data_type = \"double\"\n",
    "if existing_field_name in field_names:\n",
    "    df = update_field_type(df, existing_field_name, updated_data_type)\n",
    "    df.show()"
   ]
  },
  {
   "cell_type": "code",
   "execution_count": 19,
   "metadata": {},
   "outputs": [],
   "source": [
    "# Store updated schema in schema_store\n",
    "schema_store[\"version_2\"] = df.schema"
   ]
  },
  {
   "cell_type": "code",
   "execution_count": 20,
   "metadata": {},
   "outputs": [
    {
     "data": {
      "text/plain": [
       "{'version_1': StructType([StructField('InvoiceNo', StringType(), True), StructField('StockCode', StringType(), True), StructField('Description', StringType(), True), StructField('Quantity', IntegerType(), True), StructField('InvoiceDate', StringType(), True), StructField('UnitPrice', DoubleType(), True), StructField('CustomerID', IntegerType(), True), StructField('Country', StringType(), True)]),\n",
       " 'version_2': StructType([StructField('InvoiceNo', StringType(), True), StructField('StockCode', StringType(), True), StructField('Description', StringType(), True), StructField('Quantity', DoubleType(), True), StructField('InvoiceDate', StringType(), True), StructField('UnitPrice', DoubleType(), True), StructField('CustomerID', IntegerType(), True), StructField('Country', StringType(), True), StructField('City', StringType(), False)])}"
      ]
     },
     "execution_count": 20,
     "metadata": {},
     "output_type": "execute_result"
    }
   ],
   "source": [
    "schema_store"
   ]
  },
  {
   "cell_type": "code",
   "execution_count": null,
   "metadata": {},
   "outputs": [],
   "source": [
    "output_file = \"updated_schema.csv\"\n",
    "df.write.format(\"csv\").option(\"header\", \"true\").mode(\"overwrite\").save(output_file)\n",
    "#df.toPandas().to_csv(output_file, index=False)\n"
   ]
  },
  {
   "cell_type": "code",
   "execution_count": null,
   "metadata": {},
   "outputs": [],
   "source": []
  },
  {
   "cell_type": "code",
   "execution_count": null,
   "metadata": {},
   "outputs": [],
   "source": []
  }
 ],
 "metadata": {
  "kernelspec": {
   "display_name": "myDL",
   "language": "python",
   "name": "python3"
  },
  "language_info": {
   "codemirror_mode": {
    "name": "ipython",
    "version": 3
   },
   "file_extension": ".py",
   "mimetype": "text/x-python",
   "name": "python",
   "nbconvert_exporter": "python",
   "pygments_lexer": "ipython3",
   "version": "3.9.13"
  }
 },
 "nbformat": 4,
 "nbformat_minor": 2
}
